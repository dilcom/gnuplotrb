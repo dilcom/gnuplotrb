{
 "cells": [
  {
   "cell_type": "markdown",
   "metadata": {},
   "source": [
    "### Using GnuplotRB in IRuby notebooks\n",
    "GnuplotRB plots may be embedded into iRuby notebooks as images (terminals *svg*, *png*, *jpeg* and *pngcairo* are supported) or plain text (*dumb* terminal). By default GnuplotRB will use svg:"
   ]
  },
  {
   "cell_type": "code",
   "execution_count": 1,
   "metadata": {
    "collapsed": false
   },
   "outputs": [
    {
     "data": {
      "image/svg+xml": [
       "<?xml version=\"1.0\" encoding=\"utf-8\"  standalone=\"no\"?>\n",
       "<!DOCTYPE svg PUBLIC \"-//W3C//DTD SVG 1.1//EN\"\n",
       " \"http://www.w3.org/Graphics/SVG/1.1/DTD/svg11.dtd\">\n",
       "<svg \n",
       " width=\"600\" height=\"480\"\n",
       " viewBox=\"0 0 600 480\"\n",
       " xmlns=\"http://www.w3.org/2000/svg\"\n",
       " xmlns:xlink=\"http://www.w3.org/1999/xlink\"\n",
       ">\n",
       "\n",
       "<title>Gnuplot</title>\n",
       "<desc>Produced by GNUPLOT 5.0 patchlevel rc2 </desc>\n",
       "\n",
       "<g id=\"gnuplot_canvas\">\n",
       "\n",
       "<rect x=\"0\" y=\"0\" width=\"600\" height=\"480\" fill=\"none\"/>\n",
       "<defs>\n",
       "\n",
       "\t<circle id='gpDot' r='0.5' stroke-width='0.5'/>\n",
       "\t<path id='gpPt0' stroke-width='0.222' stroke='currentColor' d='M-1,0 h2 M0,-1 v2'/>\n",
       "\t<path id='gpPt1' stroke-width='0.222' stroke='currentColor' d='M-1,-1 L1,1 M1,-1 L-1,1'/>\n",
       "\t<path id='gpPt2' stroke-width='0.222' stroke='currentColor' d='M-1,0 L1,0 M0,-1 L0,1 M-1,-1 L1,1 M-1,1 L1,-1'/>\n",
       "\t<rect id='gpPt3' stroke-width='0.222' stroke='currentColor' x='-1' y='-1' width='2' height='2'/>\n",
       "\t<rect id='gpPt4' stroke-width='0.222' stroke='currentColor' fill='currentColor' x='-1' y='-1' width='2' height='2'/>\n",
       "\t<circle id='gpPt5' stroke-width='0.222' stroke='currentColor' cx='0' cy='0' r='1'/>\n",
       "\t<use xlink:href='#gpPt5' id='gpPt6' fill='currentColor' stroke='none'/>\n",
       "\t<path id='gpPt7' stroke-width='0.222' stroke='currentColor' d='M0,-1.33 L-1.33,0.67 L1.33,0.67 z'/>\n",
       "\t<use xlink:href='#gpPt7' id='gpPt8' fill='currentColor' stroke='none'/>\n",
       "\t<use xlink:href='#gpPt7' id='gpPt9' stroke='currentColor' transform='rotate(180)'/>\n",
       "\t<use xlink:href='#gpPt9' id='gpPt10' fill='currentColor' stroke='none'/>\n",
       "\t<use xlink:href='#gpPt3' id='gpPt11' stroke='currentColor' transform='rotate(45)'/>\n",
       "\t<use xlink:href='#gpPt11' id='gpPt12' fill='currentColor' stroke='none'/>\n",
       "\t<path id='gpPt13' stroke-width='0.222' stroke='currentColor' d='M0,1.330 L1.265,0.411 L0.782,-1.067 L-0.782,-1.076 L-1.265,0.411 z'/>\n",
       "\t<use xlink:href='#gpPt13' id='gpPt14' fill='currentColor' stroke='none'/>\n",
       "\t<filter id='textbox' filterUnits='objectBoundingBox' x='0' y='0' height='1' width='1'>\n",
       "\t  <feFlood flood-color='white' flood-opacity='1' result='bgnd'/>\n",
       "\t  <feComposite in='SourceGraphic' in2='bgnd' operator='atop'/>\n",
       "\t</filter>\n",
       "\t<filter id='greybox' filterUnits='objectBoundingBox' x='0' y='0' height='1' width='1'>\n",
       "\t  <feFlood flood-color='lightgrey' flood-opacity='1' result='grey'/>\n",
       "\t  <feComposite in='SourceGraphic' in2='grey' operator='atop'/>\n",
       "\t</filter>\n",
       "</defs>\n",
       "<g fill=\"none\" color=\"white\" stroke=\"currentColor\" stroke-width=\"1.00\" stroke-linecap=\"butt\" stroke-linejoin=\"miter\">\n",
       "</g>\n",
       "<g fill=\"none\" color=\"black\" stroke=\"currentColor\" stroke-width=\"1.00\" stroke-linecap=\"butt\" stroke-linejoin=\"miter\">\n",
       "\t<path stroke='black'  d='M55.3,422.4 L64.3,422.4 M575.0,422.4 L566.0,422.4  '/>\t<g transform=\"translate(47.0,426.9)\" stroke=\"none\" fill=\"black\" font-family=\"Arial\" font-size=\"12.00\"  text-anchor=\"end\">\n",
       "\t\t<text><tspan font-family=\"Arial\" >-6</tspan></text>\n",
       "\t</g>\n",
       "</g>\n",
       "<g fill=\"none\" color=\"black\" stroke=\"currentColor\" stroke-width=\"1.00\" stroke-linecap=\"butt\" stroke-linejoin=\"miter\">\n",
       "\t<path stroke='black'  d='M55.3,369.8 L64.3,369.8 M575.0,369.8 L566.0,369.8  '/>\t<g transform=\"translate(47.0,374.3)\" stroke=\"none\" fill=\"black\" font-family=\"Arial\" font-size=\"12.00\"  text-anchor=\"end\">\n",
       "\t\t<text><tspan font-family=\"Arial\" >-4</tspan></text>\n",
       "\t</g>\n",
       "</g>\n",
       "<g fill=\"none\" color=\"black\" stroke=\"currentColor\" stroke-width=\"1.00\" stroke-linecap=\"butt\" stroke-linejoin=\"miter\">\n",
       "\t<path stroke='black'  d='M55.3,317.2 L64.3,317.2 M575.0,317.2 L566.0,317.2  '/>\t<g transform=\"translate(47.0,321.7)\" stroke=\"none\" fill=\"black\" font-family=\"Arial\" font-size=\"12.00\"  text-anchor=\"end\">\n",
       "\t\t<text><tspan font-family=\"Arial\" >-2</tspan></text>\n",
       "\t</g>\n",
       "</g>\n",
       "<g fill=\"none\" color=\"black\" stroke=\"currentColor\" stroke-width=\"1.00\" stroke-linecap=\"butt\" stroke-linejoin=\"miter\">\n",
       "\t<path stroke='black'  d='M55.3,264.6 L64.3,264.6 M575.0,264.6 L566.0,264.6  '/>\t<g transform=\"translate(47.0,269.1)\" stroke=\"none\" fill=\"black\" font-family=\"Arial\" font-size=\"12.00\"  text-anchor=\"end\">\n",
       "\t\t<text><tspan font-family=\"Arial\" > 0</tspan></text>\n",
       "\t</g>\n",
       "</g>\n",
       "<g fill=\"none\" color=\"black\" stroke=\"currentColor\" stroke-width=\"1.00\" stroke-linecap=\"butt\" stroke-linejoin=\"miter\">\n",
       "\t<path stroke='black'  d='M55.3,211.9 L64.3,211.9 M575.0,211.9 L566.0,211.9  '/>\t<g transform=\"translate(47.0,216.4)\" stroke=\"none\" fill=\"black\" font-family=\"Arial\" font-size=\"12.00\"  text-anchor=\"end\">\n",
       "\t\t<text><tspan font-family=\"Arial\" > 2</tspan></text>\n",
       "\t</g>\n",
       "</g>\n",
       "<g fill=\"none\" color=\"black\" stroke=\"currentColor\" stroke-width=\"1.00\" stroke-linecap=\"butt\" stroke-linejoin=\"miter\">\n",
       "\t<path stroke='black'  d='M55.3,159.3 L64.3,159.3 M575.0,159.3 L566.0,159.3  '/>\t<g transform=\"translate(47.0,163.8)\" stroke=\"none\" fill=\"black\" font-family=\"Arial\" font-size=\"12.00\"  text-anchor=\"end\">\n",
       "\t\t<text><tspan font-family=\"Arial\" > 4</tspan></text>\n",
       "\t</g>\n",
       "</g>\n",
       "<g fill=\"none\" color=\"black\" stroke=\"currentColor\" stroke-width=\"1.00\" stroke-linecap=\"butt\" stroke-linejoin=\"miter\">\n",
       "\t<path stroke='black'  d='M55.3,106.7 L64.3,106.7 M575.0,106.7 L566.0,106.7  '/>\t<g transform=\"translate(47.0,111.2)\" stroke=\"none\" fill=\"black\" font-family=\"Arial\" font-size=\"12.00\"  text-anchor=\"end\">\n",
       "\t\t<text><tspan font-family=\"Arial\" > 6</tspan></text>\n",
       "\t</g>\n",
       "</g>\n",
       "<g fill=\"none\" color=\"black\" stroke=\"currentColor\" stroke-width=\"1.00\" stroke-linecap=\"butt\" stroke-linejoin=\"miter\">\n",
       "\t<path stroke='black'  d='M55.3,54.1 L64.3,54.1 M575.0,54.1 L566.0,54.1  '/>\t<g transform=\"translate(47.0,58.6)\" stroke=\"none\" fill=\"black\" font-family=\"Arial\" font-size=\"12.00\"  text-anchor=\"end\">\n",
       "\t\t<text><tspan font-family=\"Arial\" > 8</tspan></text>\n",
       "\t</g>\n",
       "</g>\n",
       "<g fill=\"none\" color=\"black\" stroke=\"currentColor\" stroke-width=\"1.00\" stroke-linecap=\"butt\" stroke-linejoin=\"miter\">\n",
       "\t<path stroke='black'  d='M55.3,422.4 L55.3,413.4 M55.3,54.1 L55.3,63.1  '/>\t<g transform=\"translate(55.3,444.9)\" stroke=\"none\" fill=\"black\" font-family=\"Arial\" font-size=\"12.00\"  text-anchor=\"middle\">\n",
       "\t\t<text><tspan font-family=\"Arial\" >-10</tspan></text>\n",
       "\t</g>\n",
       "</g>\n",
       "<g fill=\"none\" color=\"black\" stroke=\"currentColor\" stroke-width=\"1.00\" stroke-linecap=\"butt\" stroke-linejoin=\"miter\">\n",
       "\t<path stroke='black'  d='M185.2,422.4 L185.2,413.4 M185.2,54.1 L185.2,63.1  '/>\t<g transform=\"translate(185.2,444.9)\" stroke=\"none\" fill=\"black\" font-family=\"Arial\" font-size=\"12.00\"  text-anchor=\"middle\">\n",
       "\t\t<text><tspan font-family=\"Arial\" >-5</tspan></text>\n",
       "\t</g>\n",
       "</g>\n",
       "<g fill=\"none\" color=\"black\" stroke=\"currentColor\" stroke-width=\"1.00\" stroke-linecap=\"butt\" stroke-linejoin=\"miter\">\n",
       "\t<path stroke='black'  d='M315.2,422.4 L315.2,413.4 M315.2,54.1 L315.2,63.1  '/>\t<g transform=\"translate(315.2,444.9)\" stroke=\"none\" fill=\"black\" font-family=\"Arial\" font-size=\"12.00\"  text-anchor=\"middle\">\n",
       "\t\t<text><tspan font-family=\"Arial\" > 0</tspan></text>\n",
       "\t</g>\n",
       "</g>\n",
       "<g fill=\"none\" color=\"black\" stroke=\"currentColor\" stroke-width=\"1.00\" stroke-linecap=\"butt\" stroke-linejoin=\"miter\">\n",
       "\t<path stroke='black'  d='M445.1,422.4 L445.1,413.4 M445.1,54.1 L445.1,63.1  '/>\t<g transform=\"translate(445.1,444.9)\" stroke=\"none\" fill=\"black\" font-family=\"Arial\" font-size=\"12.00\"  text-anchor=\"middle\">\n",
       "\t\t<text><tspan font-family=\"Arial\" > 5</tspan></text>\n",
       "\t</g>\n",
       "</g>\n",
       "<g fill=\"none\" color=\"black\" stroke=\"currentColor\" stroke-width=\"1.00\" stroke-linecap=\"butt\" stroke-linejoin=\"miter\">\n",
       "\t<path stroke='black'  d='M575.0,422.4 L575.0,413.4 M575.0,54.1 L575.0,63.1  '/>\t<g transform=\"translate(575.0,444.9)\" stroke=\"none\" fill=\"black\" font-family=\"Arial\" font-size=\"12.00\"  text-anchor=\"middle\">\n",
       "\t\t<text><tspan font-family=\"Arial\" > 10</tspan></text>\n",
       "\t</g>\n",
       "</g>\n",
       "<g fill=\"none\" color=\"black\" stroke=\"currentColor\" stroke-width=\"1.00\" stroke-linecap=\"butt\" stroke-linejoin=\"miter\">\n",
       "</g>\n",
       "<g fill=\"none\" color=\"black\" stroke=\"currentColor\" stroke-width=\"1.00\" stroke-linecap=\"butt\" stroke-linejoin=\"miter\">\n",
       "\t<path stroke='black'  d='M55.3,54.1 L55.3,422.4 L575.0,422.4 L575.0,54.1 L55.3,54.1 Z  '/></g>\n",
       "<g fill=\"none\" color=\"black\" stroke=\"currentColor\" stroke-width=\"1.00\" stroke-linecap=\"butt\" stroke-linejoin=\"miter\">\n",
       "\t<g transform=\"translate(17.6,238.3) rotate(270)\" stroke=\"none\" fill=\"black\" font-family=\"Arial\" font-size=\"12.00\"  text-anchor=\"middle\">\n",
       "\t\t<text><tspan font-family=\"Arial\" >x</tspan></text>\n",
       "\t</g>\n",
       "</g>\n",
       "<g fill=\"none\" color=\"black\" stroke=\"currentColor\" stroke-width=\"1.00\" stroke-linecap=\"butt\" stroke-linejoin=\"miter\">\n",
       "\t<g transform=\"translate(315.1,471.9)\" stroke=\"none\" fill=\"black\" font-family=\"Arial\" font-size=\"12.00\"  text-anchor=\"middle\">\n",
       "\t\t<text><tspan font-family=\"Arial\" >x*sin(x)</tspan></text>\n",
       "\t</g>\n",
       "</g>\n",
       "<g fill=\"none\" color=\"black\" stroke=\"currentColor\" stroke-width=\"1.00\" stroke-linecap=\"butt\" stroke-linejoin=\"miter\">\n",
       "\t<g transform=\"translate(315.1,31.6)\" stroke=\"none\" fill=\"black\" font-family=\"Arial\" font-size=\"12.00\"  text-anchor=\"middle\">\n",
       "\t\t<text><tspan font-family=\"Arial\" >Math function example</tspan></text>\n",
       "\t</g>\n",
       "</g>\n",
       "\t<g id=\"gnuplot_plot_1\" ><title>x*sin(x)</title>\n",
       "<g fill=\"none\" color=\"white\" stroke=\"black\" stroke-width=\"3.00\" stroke-linecap=\"butt\" stroke-linejoin=\"miter\">\n",
       "</g>\n",
       "<g fill=\"none\" color=\"black\" stroke=\"currentColor\" stroke-width=\"3.00\" stroke-linecap=\"butt\" stroke-linejoin=\"miter\">\n",
       "\t<g transform=\"translate(507.9,76.6)\" stroke=\"none\" fill=\"black\" font-family=\"Arial\" font-size=\"12.00\"  text-anchor=\"end\">\n",
       "\t\t<text>x*sin(x)</text>\n",
       "\t</g>\n",
       "</g>\n",
       "<g fill=\"none\" color=\"black\" stroke=\"currentColor\" stroke-width=\"3.00\" stroke-linecap=\"butt\" stroke-linejoin=\"miter\">\n",
       "\t<path stroke='rgb(  0,   0, 255)'  d='M516.2,72.1 L558.4,72.1 M55.3,407.7 L60.5,358.5 L65.8,307.6 L71.0,256.9 L76.3,208.8 L81.5,164.9\n",
       "\t\tL86.8,127.1 L92.0,96.5 L97.3,74.2 L102.5,60.8 L107.8,56.3 L113.0,60.5 L118.3,72.9 L123.5,92.5\n",
       "\t\tL128.8,118.1 L134.0,148.3 L139.3,181.6 L144.5,216.4 L149.8,251.1 L155.0,284.2 L160.3,314.4 L165.5,340.6\n",
       "\t\tL170.8,361.8 L176.0,377.4 L181.3,387.2 L186.5,391.1 L191.8,389.4 L197.0,382.5 L202.3,371.1 L207.5,356.2\n",
       "\t\tL212.8,338.7 L218.0,319.7 L223.3,300.2 L228.5,281.3 L233.8,263.7 L239.0,248.3 L244.3,235.7 L249.5,226.2\n",
       "\t\tL254.8,219.9 L260.0,217.0 L265.3,217.1 L270.5,219.9 L275.8,224.8 L281.0,231.2 L286.3,238.4 L291.5,245.7\n",
       "\t\tL296.8,252.5 L302.0,258.1 L307.3,262.2 L312.5,264.3 L317.8,264.3 L323.0,262.2 L328.3,258.1 L333.5,252.5\n",
       "\t\tL338.8,245.7 L344.0,238.4 L349.3,231.2 L354.5,224.8 L359.8,219.9 L365.0,217.1 L370.3,217.0 L375.5,219.9\n",
       "\t\tL380.8,226.2 L386.0,235.7 L391.3,248.3 L396.5,263.7 L401.8,281.3 L407.0,300.2 L412.3,319.7 L417.5,338.7\n",
       "\t\tL422.8,356.2 L428.0,371.1 L433.3,382.5 L438.5,389.4 L443.8,391.1 L449.0,387.2 L454.3,377.4 L459.5,361.8\n",
       "\t\tL464.8,340.6 L470.0,314.4 L475.3,284.2 L480.5,251.1 L485.8,216.4 L491.0,181.6 L496.3,148.3 L501.5,118.1\n",
       "\t\tL506.8,92.5 L512.0,72.9 L517.3,60.5 L522.5,56.3 L527.8,60.8 L533.0,74.2 L538.3,96.5 L543.5,127.1\n",
       "\t\tL548.8,164.9 L554.0,208.8 L559.3,256.9 L564.5,307.6 L569.8,358.5 L575.0,407.7  '/></g>\n",
       "\t</g>\n",
       "<g fill=\"none\" color=\"white\" stroke=\"rgb(  0,   0, 255)\" stroke-width=\"2.00\" stroke-linecap=\"butt\" stroke-linejoin=\"miter\">\n",
       "</g>\n",
       "<g fill=\"none\" color=\"black\" stroke=\"currentColor\" stroke-width=\"2.00\" stroke-linecap=\"butt\" stroke-linejoin=\"miter\">\n",
       "</g>\n",
       "<g fill=\"none\" color=\"black\" stroke=\"black\" stroke-width=\"1.00\" stroke-linecap=\"butt\" stroke-linejoin=\"miter\">\n",
       "</g>\n",
       "<g fill=\"none\" color=\"black\" stroke=\"currentColor\" stroke-width=\"1.00\" stroke-linecap=\"butt\" stroke-linejoin=\"miter\">\n",
       "\t<path stroke='black'  d='M55.3,54.1 L55.3,422.4 L575.0,422.4 L575.0,54.1 L55.3,54.1 Z  '/></g>\n",
       "<g fill=\"none\" color=\"black\" stroke=\"currentColor\" stroke-width=\"1.00\" stroke-linecap=\"butt\" stroke-linejoin=\"miter\">\n",
       "</g>\n",
       "</g>\n",
       "</svg>\n",
       "\n"
      ],
      "text/plain": [
       "#<GnuplotRB::Plot:0x00000003628e98 @options=Hamster::Hash[:xrange => -10..10, :ylabel => \"x\", :title => \"Math function example\", :xlabel => \"x*sin(x)\"], @datasets=Hamster::Vector[#<GnuplotRB::Dataset:0x00000003628c18 @type=:math_function, @data=\"x*sin(x)\", @options=Hamster::Hash[:lt => {:rgb=>\"blue\", :lw=>3}, :with => \"lines\"]>], @cmd=\"plot \">"
      ]
     },
     "execution_count": 1,
     "metadata": {},
     "output_type": "execute_result"
    }
   ],
   "source": [
    "require 'gnuplotrb'\n",
    "include GnuplotRB\n",
    "\n",
    "simple_plot = Plot.new(\n",
    "  ['x*sin(x)', with: 'lines', lt: { rgb: 'blue', lw: 3 }],\n",
    "  xrange: -10..10,\n",
    "  title: 'Math function example', \n",
    "  ylabel: 'x',\n",
    "  xlabel: 'x*sin(x)'\n",
    ")"
   ]
  },
  {
   "cell_type": "markdown",
   "metadata": {},
   "source": [
    "You can make GnuplotRB plots to be rendered into other formats using *term* option:"
   ]
  },
  {
   "cell_type": "code",
   "execution_count": 2,
   "metadata": {
    "collapsed": false
   },
   "outputs": [
    {
     "data": {
      "image/png": "[encoded data removed]",
      "text/plain": [
       "#<GnuplotRB::Plot:0x00000003676c38 @options=Hamster::Hash[:xrange => -10..10, :ylabel => \"x\", :title => \"Math function example\", :xlabel => \"x*sin(x)\", :term => [\"png\"]], @datasets=Hamster::Vector[#<GnuplotRB::Dataset:0x00000003628c18 @type=:math_function, @data=\"x*sin(x)\", @options=Hamster::Hash[:lt => {:rgb=>\"blue\", :lw=>3}, :with => \"lines\"]>], @cmd=\"plot \">"
      ]
     },
     "execution_count": 2,
     "metadata": {},
     "output_type": "execute_result"
    }
   ],
   "source": [
    "simple_plot.term('png')"
   ]
  },
  {
   "cell_type": "code",
   "execution_count": 3,
   "metadata": {
    "collapsed": false
   },
   "outputs": [
    {
     "data": {
      "image/jpeg": "[encoded data removed]",
      "text/plain": [
       "#<GnuplotRB::Plot:0x000000036aac68 @options=Hamster::Hash[:xrange => -10..10, :ylabel => \"x\", :title => \"Math function example\", :xlabel => \"x*sin(x)\", :term => [\"jpeg\"]], @datasets=Hamster::Vector[#<GnuplotRB::Dataset:0x00000003628c18 @type=:math_function, @data=\"x*sin(x)\", @options=Hamster::Hash[:lt => {:rgb=>\"blue\", :lw=>3}, :with => \"lines\"]>], @cmd=\"plot \">"
      ]
     },
     "execution_count": 3,
     "metadata": {},
     "output_type": "execute_result"
    }
   ],
   "source": [
    "simple_plot.term('jpeg')"
   ]
  },
  {
   "cell_type": "code",
   "execution_count": 4,
   "metadata": {
    "collapsed": false
   },
   "outputs": [
    {
     "data": {
      "text/plain": [
       "\f",
       "\n",
       "                             Math function example\n",
       "\n",
       "  8 +-+---------------+-----------------+----------------+---------------+-+\n",
       "    +     +  +        +                 +                +        +  +     +\n",
       "  6 +-+  +   +                                            x*sin(x)++-----+-+\n",
       "    |   +     +                                                  +     +   |\n",
       "    |   |      +                                                +      |   |\n",
       "  4 +-+ +      |                                                |      + +-+\n",
       "    |   |      +                                                +       |  |\n",
       "  2 +-++        +                                              +        ++-+\n",
       "    |  |         |            ++++++        ++++++             |         | |\n",
       "    | +          +           +      +++  +++      +           +          + |\n",
       "  0 +-+           |         +         ++++         +          |          +-+\n",
       "    ||            +        +                        +        +            ||\n",
       " -2 +-+           +       +                          +       +           +-+\n",
       "    ||             +      +                          +      +             ||\n",
       "    |+              +    +                            +    +              +|\n",
       " -4 +-+             ++ ++                              ++ ++             +-+\n",
       "    +                 +                 +                +                 +\n",
       " -6 +-+---------------+-----------------+----------------+---------------+-+\n",
       "   -10               -5                 0                5                 10\n",
       "                                   x*sin(x)\n",
       "\n"
      ]
     },
     "execution_count": 4,
     "metadata": {},
     "output_type": "execute_result"
    }
   ],
   "source": [
    "simple_plot.term('dumb')"
   ]
  },
  {
   "cell_type": "markdown",
   "metadata": {},
   "source": [
    "#### Using terminal options\n",
    "To specify some image params like canvas size or font you can pass options to term:"
   ]
  },
  {
   "cell_type": "code",
   "execution_count": 5,
   "metadata": {
    "collapsed": false
   },
   "outputs": [
    {
     "data": {
      "text/plain": [
       "\f",
       "\n",
       "                    Math function example\n",
       "\n",
       "  8 +-+----------+------------+------------+----------+-+\n",
       "    +   + +      +            +            +      + +   +\n",
       "    |   |  +                           x*sin(x) +-----+ |\n",
       "  6 +-+ +  |                                     |  + +-+\n",
       "    |   |  +                                     +   |  |\n",
       "    |  +    |                                    |   +  |\n",
       "    |  |    +                                   +    |  |\n",
       "  4 +-++    |                                   |    ++-+\n",
       "    |  |    +                                   +    |  |\n",
       "    | |      |                                  |     | |\n",
       "  2 +-+      +          +++       +++          +      +-+\n",
       "    | |      |         +  ++     ++  +         |      | |\n",
       "    | |      +        +    ++   ++    +        +      | |\n",
       "  0 +-+       |       +      +++      +        |      +-+\n",
       "    | |       +      +                 +      +       | |\n",
       "    ||         |     +                 +      |        ||\n",
       " -2 +-+        +     |                  |    +        +-+\n",
       "    ||         |    +                   +    |         ||\n",
       "    ||         +    +                   +    +         ||\n",
       "    |+          +  +                     +  +          +|\n",
       " -4 +-+         +  +                     +  +         +-+\n",
       "    |            ++                       ++            |\n",
       "    +            +            +            +            +\n",
       " -6 +-+----------+------------+------------+----------+-+\n",
       "   -10          -5            0            5            10\n",
       "                          x*sin(x)\n",
       "\n"
      ]
     },
     "execution_count": 5,
     "metadata": {},
     "output_type": "execute_result"
    }
   ],
   "source": [
    "simple_plot.term('dumb', size: [60,30])"
   ]
  },
  {
   "cell_type": "code",
   "execution_count": 6,
   "metadata": {
    "collapsed": false
   },
   "outputs": [
    {
     "data": {
      "image/svg+xml": [
       "<?xml version=\"1.0\" encoding=\"utf-8\"  standalone=\"no\"?>\n",
       "<!DOCTYPE svg PUBLIC \"-//W3C//DTD SVG 1.1//EN\"\n",
       " \"http://www.w3.org/Graphics/SVG/1.1/DTD/svg11.dtd\">\n",
       "<svg \n",
       " width=\"600\" height=\"480\"\n",
       " viewBox=\"0 0 600 480\"\n",
       " xmlns=\"http://www.w3.org/2000/svg\"\n",
       " xmlns:xlink=\"http://www.w3.org/1999/xlink\"\n",
       ">\n",
       "\n",
       "<title>Gnuplot</title>\n",
       "<desc>Produced by GNUPLOT 5.0 patchlevel rc2 </desc>\n",
       "\n",
       "<g id=\"gnuplot_canvas\">\n",
       "\n",
       "<rect x=\"0\" y=\"0\" width=\"600\" height=\"480\" fill=\"none\"/>\n",
       "<defs>\n",
       "\n",
       "\t<circle id='gpDot' r='0.5' stroke-width='0.5'/>\n",
       "\t<path id='gpPt0' stroke-width='0.148' stroke='currentColor' d='M-1,0 h2 M0,-1 v2'/>\n",
       "\t<path id='gpPt1' stroke-width='0.148' stroke='currentColor' d='M-1,-1 L1,1 M1,-1 L-1,1'/>\n",
       "\t<path id='gpPt2' stroke-width='0.148' stroke='currentColor' d='M-1,0 L1,0 M0,-1 L0,1 M-1,-1 L1,1 M-1,1 L1,-1'/>\n",
       "\t<rect id='gpPt3' stroke-width='0.148' stroke='currentColor' x='-1' y='-1' width='2' height='2'/>\n",
       "\t<rect id='gpPt4' stroke-width='0.148' stroke='currentColor' fill='currentColor' x='-1' y='-1' width='2' height='2'/>\n",
       "\t<circle id='gpPt5' stroke-width='0.148' stroke='currentColor' cx='0' cy='0' r='1'/>\n",
       "\t<use xlink:href='#gpPt5' id='gpPt6' fill='currentColor' stroke='none'/>\n",
       "\t<path id='gpPt7' stroke-width='0.148' stroke='currentColor' d='M0,-1.33 L-1.33,0.67 L1.33,0.67 z'/>\n",
       "\t<use xlink:href='#gpPt7' id='gpPt8' fill='currentColor' stroke='none'/>\n",
       "\t<use xlink:href='#gpPt7' id='gpPt9' stroke='currentColor' transform='rotate(180)'/>\n",
       "\t<use xlink:href='#gpPt9' id='gpPt10' fill='currentColor' stroke='none'/>\n",
       "\t<use xlink:href='#gpPt3' id='gpPt11' stroke='currentColor' transform='rotate(45)'/>\n",
       "\t<use xlink:href='#gpPt11' id='gpPt12' fill='currentColor' stroke='none'/>\n",
       "\t<path id='gpPt13' stroke-width='0.148' stroke='currentColor' d='M0,1.330 L1.265,0.411 L0.782,-1.067 L-0.782,-1.076 L-1.265,0.411 z'/>\n",
       "\t<use xlink:href='#gpPt13' id='gpPt14' fill='currentColor' stroke='none'/>\n",
       "\t<filter id='textbox' filterUnits='objectBoundingBox' x='0' y='0' height='1' width='1'>\n",
       "\t  <feFlood flood-color='white' flood-opacity='1' result='bgnd'/>\n",
       "\t  <feComposite in='SourceGraphic' in2='bgnd' operator='atop'/>\n",
       "\t</filter>\n",
       "\t<filter id='greybox' filterUnits='objectBoundingBox' x='0' y='0' height='1' width='1'>\n",
       "\t  <feFlood flood-color='lightgrey' flood-opacity='1' result='grey'/>\n",
       "\t  <feComposite in='SourceGraphic' in2='grey' operator='atop'/>\n",
       "\t</filter>\n",
       "</defs>\n",
       "<g fill=\"none\" color=\"white\" stroke=\"currentColor\" stroke-width=\"1.00\" stroke-linecap=\"butt\" stroke-linejoin=\"miter\">\n",
       "</g>\n",
       "<g fill=\"none\" color=\"black\" stroke=\"currentColor\" stroke-width=\"1.00\" stroke-linecap=\"butt\" stroke-linejoin=\"miter\">\n",
       "\t<path stroke='black'  d='M83.7,393.6 L97.2,393.6 M562.1,393.6 L548.6,393.6  '/>\t<g transform=\"translate(71.1,400.3)\" stroke=\"none\" fill=\"black\" font-family=\"Arial\" font-size=\"18.00\"  text-anchor=\"end\">\n",
       "\t\t<text><tspan font-family=\"Arial\" >-6</tspan></text>\n",
       "\t</g>\n",
       "</g>\n",
       "<g fill=\"none\" color=\"black\" stroke=\"currentColor\" stroke-width=\"1.00\" stroke-linecap=\"butt\" stroke-linejoin=\"miter\">\n",
       "\t<path stroke='black'  d='M83.7,349.0 L97.2,349.0 M562.1,349.0 L548.6,349.0  '/>\t<g transform=\"translate(71.1,355.7)\" stroke=\"none\" fill=\"black\" font-family=\"Arial\" font-size=\"18.00\"  text-anchor=\"end\">\n",
       "\t\t<text><tspan font-family=\"Arial\" >-4</tspan></text>\n",
       "\t</g>\n",
       "</g>\n",
       "<g fill=\"none\" color=\"black\" stroke=\"currentColor\" stroke-width=\"1.00\" stroke-linecap=\"butt\" stroke-linejoin=\"miter\">\n",
       "\t<path stroke='black'  d='M83.7,304.3 L97.2,304.3 M562.1,304.3 L548.6,304.3  '/>\t<g transform=\"translate(71.1,311.0)\" stroke=\"none\" fill=\"black\" font-family=\"Arial\" font-size=\"18.00\"  text-anchor=\"end\">\n",
       "\t\t<text><tspan font-family=\"Arial\" >-2</tspan></text>\n",
       "\t</g>\n",
       "</g>\n",
       "<g fill=\"none\" color=\"black\" stroke=\"currentColor\" stroke-width=\"1.00\" stroke-linecap=\"butt\" stroke-linejoin=\"miter\">\n",
       "\t<path stroke='black'  d='M83.7,259.7 L97.2,259.7 M562.1,259.7 L548.6,259.7  '/>\t<g transform=\"translate(71.1,266.4)\" stroke=\"none\" fill=\"black\" font-family=\"Arial\" font-size=\"18.00\"  text-anchor=\"end\">\n",
       "\t\t<text><tspan font-family=\"Arial\" > 0</tspan></text>\n",
       "\t</g>\n",
       "</g>\n",
       "<g fill=\"none\" color=\"black\" stroke=\"currentColor\" stroke-width=\"1.00\" stroke-linecap=\"butt\" stroke-linejoin=\"miter\">\n",
       "\t<path stroke='black'  d='M83.7,215.0 L97.2,215.0 M562.1,215.0 L548.6,215.0  '/>\t<g transform=\"translate(71.1,221.7)\" stroke=\"none\" fill=\"black\" font-family=\"Arial\" font-size=\"18.00\"  text-anchor=\"end\">\n",
       "\t\t<text><tspan font-family=\"Arial\" > 2</tspan></text>\n",
       "\t</g>\n",
       "</g>\n",
       "<g fill=\"none\" color=\"black\" stroke=\"currentColor\" stroke-width=\"1.00\" stroke-linecap=\"butt\" stroke-linejoin=\"miter\">\n",
       "\t<path stroke='black'  d='M83.7,170.4 L97.2,170.4 M562.1,170.4 L548.6,170.4  '/>\t<g transform=\"translate(71.1,177.1)\" stroke=\"none\" fill=\"black\" font-family=\"Arial\" font-size=\"18.00\"  text-anchor=\"end\">\n",
       "\t\t<text><tspan font-family=\"Arial\" > 4</tspan></text>\n",
       "\t</g>\n",
       "</g>\n",
       "<g fill=\"none\" color=\"black\" stroke=\"currentColor\" stroke-width=\"1.00\" stroke-linecap=\"butt\" stroke-linejoin=\"miter\">\n",
       "\t<path stroke='black'  d='M83.7,125.7 L97.2,125.7 M562.1,125.7 L548.6,125.7  '/>\t<g transform=\"translate(71.1,132.4)\" stroke=\"none\" fill=\"black\" font-family=\"Arial\" font-size=\"18.00\"  text-anchor=\"end\">\n",
       "\t\t<text><tspan font-family=\"Arial\" > 6</tspan></text>\n",
       "\t</g>\n",
       "</g>\n",
       "<g fill=\"none\" color=\"black\" stroke=\"currentColor\" stroke-width=\"1.00\" stroke-linecap=\"butt\" stroke-linejoin=\"miter\">\n",
       "\t<path stroke='black'  d='M83.7,81.1 L97.2,81.1 M562.1,81.1 L548.6,81.1  '/>\t<g transform=\"translate(71.1,87.8)\" stroke=\"none\" fill=\"black\" font-family=\"Arial\" font-size=\"18.00\"  text-anchor=\"end\">\n",
       "\t\t<text><tspan font-family=\"Arial\" > 8</tspan></text>\n",
       "\t</g>\n",
       "</g>\n",
       "<g fill=\"none\" color=\"black\" stroke=\"currentColor\" stroke-width=\"1.00\" stroke-linecap=\"butt\" stroke-linejoin=\"miter\">\n",
       "\t<path stroke='black'  d='M83.7,393.6 L83.7,380.1 M83.7,81.1 L83.7,94.6  '/>\t<g transform=\"translate(83.7,427.3)\" stroke=\"none\" fill=\"black\" font-family=\"Arial\" font-size=\"18.00\"  text-anchor=\"middle\">\n",
       "\t\t<text><tspan font-family=\"Arial\" >-10</tspan></text>\n",
       "\t</g>\n",
       "</g>\n",
       "<g fill=\"none\" color=\"black\" stroke=\"currentColor\" stroke-width=\"1.00\" stroke-linecap=\"butt\" stroke-linejoin=\"miter\">\n",
       "\t<path stroke='black'  d='M203.3,393.6 L203.3,380.1 M203.3,81.1 L203.3,94.6  '/>\t<g transform=\"translate(203.3,427.3)\" stroke=\"none\" fill=\"black\" font-family=\"Arial\" font-size=\"18.00\"  text-anchor=\"middle\">\n",
       "\t\t<text><tspan font-family=\"Arial\" >-5</tspan></text>\n",
       "\t</g>\n",
       "</g>\n",
       "<g fill=\"none\" color=\"black\" stroke=\"currentColor\" stroke-width=\"1.00\" stroke-linecap=\"butt\" stroke-linejoin=\"miter\">\n",
       "\t<path stroke='black'  d='M322.9,393.6 L322.9,380.1 M322.9,81.1 L322.9,94.6  '/>\t<g transform=\"translate(322.9,427.3)\" stroke=\"none\" fill=\"black\" font-family=\"Arial\" font-size=\"18.00\"  text-anchor=\"middle\">\n",
       "\t\t<text><tspan font-family=\"Arial\" > 0</tspan></text>\n",
       "\t</g>\n",
       "</g>\n",
       "<g fill=\"none\" color=\"black\" stroke=\"currentColor\" stroke-width=\"1.00\" stroke-linecap=\"butt\" stroke-linejoin=\"miter\">\n",
       "\t<path stroke='black'  d='M442.5,393.6 L442.5,380.1 M442.5,81.1 L442.5,94.6  '/>\t<g transform=\"translate(442.5,427.3)\" stroke=\"none\" fill=\"black\" font-family=\"Arial\" font-size=\"18.00\"  text-anchor=\"middle\">\n",
       "\t\t<text><tspan font-family=\"Arial\" > 5</tspan></text>\n",
       "\t</g>\n",
       "</g>\n",
       "<g fill=\"none\" color=\"black\" stroke=\"currentColor\" stroke-width=\"1.00\" stroke-linecap=\"butt\" stroke-linejoin=\"miter\">\n",
       "\t<path stroke='black'  d='M562.1,393.6 L562.1,380.1 M562.1,81.1 L562.1,94.6  '/>\t<g transform=\"translate(562.1,427.3)\" stroke=\"none\" fill=\"black\" font-family=\"Arial\" font-size=\"18.00\"  text-anchor=\"middle\">\n",
       "\t\t<text><tspan font-family=\"Arial\" > 10</tspan></text>\n",
       "\t</g>\n",
       "</g>\n",
       "<g fill=\"none\" color=\"black\" stroke=\"currentColor\" stroke-width=\"1.00\" stroke-linecap=\"butt\" stroke-linejoin=\"miter\">\n",
       "</g>\n",
       "<g fill=\"none\" color=\"black\" stroke=\"currentColor\" stroke-width=\"1.00\" stroke-linecap=\"butt\" stroke-linejoin=\"miter\">\n",
       "\t<path stroke='black'  d='M83.7,81.1 L83.7,393.6 L562.1,393.6 L562.1,81.1 L83.7,81.1 Z  '/></g>\n",
       "<g fill=\"none\" color=\"black\" stroke=\"currentColor\" stroke-width=\"1.00\" stroke-linecap=\"butt\" stroke-linejoin=\"miter\">\n",
       "\t<g transform=\"translate(26.5,237.4) rotate(270)\" stroke=\"none\" fill=\"black\" font-family=\"Arial\" font-size=\"18.00\"  text-anchor=\"middle\">\n",
       "\t\t<text><tspan font-family=\"Arial\" >x</tspan></text>\n",
       "\t</g>\n",
       "</g>\n",
       "<g fill=\"none\" color=\"black\" stroke=\"currentColor\" stroke-width=\"1.00\" stroke-linecap=\"butt\" stroke-linejoin=\"miter\">\n",
       "\t<g transform=\"translate(322.9,467.8)\" stroke=\"none\" fill=\"black\" font-family=\"Arial\" font-size=\"18.00\"  text-anchor=\"middle\">\n",
       "\t\t<text><tspan font-family=\"Arial\" >x*sin(x)</tspan></text>\n",
       "\t</g>\n",
       "</g>\n",
       "<g fill=\"none\" color=\"black\" stroke=\"currentColor\" stroke-width=\"1.00\" stroke-linecap=\"butt\" stroke-linejoin=\"miter\">\n",
       "\t<g transform=\"translate(322.9,47.3)\" stroke=\"none\" fill=\"black\" font-family=\"Arial\" font-size=\"18.00\"  text-anchor=\"middle\">\n",
       "\t\t<text><tspan font-family=\"Arial\" >Math function example</tspan></text>\n",
       "\t</g>\n",
       "</g>\n",
       "\t<g id=\"gnuplot_plot_1\" ><title>x*sin(x)</title>\n",
       "<g fill=\"none\" color=\"white\" stroke=\"black\" stroke-width=\"3.00\" stroke-linecap=\"butt\" stroke-linejoin=\"miter\">\n",
       "</g>\n",
       "<g fill=\"none\" color=\"black\" stroke=\"currentColor\" stroke-width=\"3.00\" stroke-linecap=\"butt\" stroke-linejoin=\"miter\">\n",
       "\t<g transform=\"translate(460.4,114.8)\" stroke=\"none\" fill=\"black\" font-family=\"Arial\" font-size=\"18.00\"  text-anchor=\"end\">\n",
       "\t\t<text>x*sin(x)</text>\n",
       "\t</g>\n",
       "</g>\n",
       "<g fill=\"none\" color=\"black\" stroke=\"currentColor\" stroke-width=\"3.00\" stroke-linecap=\"butt\" stroke-linejoin=\"miter\">\n",
       "\t<path stroke='rgb(  0,   0, 255)'  d='M473.0,108.1 L536.9,108.1 M83.7,381.1 L88.5,339.4 L93.4,296.2 L98.2,253.2 L103.0,212.3 L107.9,175.1\n",
       "\t\tL112.7,143.0 L117.5,117.1 L122.4,98.2 L127.2,86.8 L132.0,83.0 L136.9,86.6 L141.7,97.1 L146.5,113.7\n",
       "\t\tL151.4,135.4 L156.2,161.1 L161.0,189.3 L165.8,218.8 L170.7,248.3 L175.5,276.4 L180.3,302.0 L185.2,324.2\n",
       "\t\tL190.0,342.1 L194.8,355.4 L199.7,363.8 L204.5,367.1 L209.3,365.6 L214.2,359.7 L219.0,350.1 L223.8,337.5\n",
       "\t\tL228.7,322.6 L233.5,306.5 L238.3,289.9 L243.2,273.9 L248.0,259.0 L252.8,245.9 L257.7,235.2 L262.5,227.1\n",
       "\t\tL267.3,221.8 L272.2,219.3 L277.0,219.4 L281.8,221.8 L286.7,225.9 L291.5,231.3 L296.3,237.4 L301.2,243.7\n",
       "\t\tL306.0,249.4 L310.8,254.2 L315.7,257.7 L320.5,259.4 L325.3,259.4 L330.1,257.7 L335.0,254.2 L339.8,249.4\n",
       "\t\tL344.6,243.7 L349.5,237.4 L354.3,231.3 L359.1,225.9 L364.0,221.8 L368.8,219.4 L373.6,219.3 L378.5,221.8\n",
       "\t\tL383.3,227.1 L388.1,235.2 L393.0,245.9 L397.8,259.0 L402.6,273.9 L407.5,289.9 L412.3,306.5 L417.1,322.6\n",
       "\t\tL422.0,337.5 L426.8,350.1 L431.6,359.7 L436.5,365.6 L441.3,367.1 L446.1,363.8 L451.0,355.4 L455.8,342.1\n",
       "\t\tL460.6,324.2 L465.5,302.0 L470.3,276.4 L475.1,248.3 L480.0,218.8 L484.8,189.3 L489.6,161.1 L494.4,135.4\n",
       "\t\tL499.3,113.7 L504.1,97.1 L508.9,86.6 L513.8,83.0 L518.6,86.8 L523.4,98.2 L528.3,117.1 L533.1,143.0\n",
       "\t\tL537.9,175.1 L542.8,212.3 L547.6,253.2 L552.4,296.2 L557.3,339.4 L562.1,381.1  '/></g>\n",
       "\t</g>\n",
       "<g fill=\"none\" color=\"white\" stroke=\"rgb(  0,   0, 255)\" stroke-width=\"2.00\" stroke-linecap=\"butt\" stroke-linejoin=\"miter\">\n",
       "</g>\n",
       "<g fill=\"none\" color=\"black\" stroke=\"currentColor\" stroke-width=\"2.00\" stroke-linecap=\"butt\" stroke-linejoin=\"miter\">\n",
       "</g>\n",
       "<g fill=\"none\" color=\"black\" stroke=\"black\" stroke-width=\"1.00\" stroke-linecap=\"butt\" stroke-linejoin=\"miter\">\n",
       "</g>\n",
       "<g fill=\"none\" color=\"black\" stroke=\"currentColor\" stroke-width=\"1.00\" stroke-linecap=\"butt\" stroke-linejoin=\"miter\">\n",
       "\t<path stroke='black'  d='M83.7,81.1 L83.7,393.6 L562.1,393.6 L562.1,81.1 L83.7,81.1 Z  '/></g>\n",
       "<g fill=\"none\" color=\"black\" stroke=\"currentColor\" stroke-width=\"1.00\" stroke-linecap=\"butt\" stroke-linejoin=\"miter\">\n",
       "</g>\n",
       "</g>\n",
       "</svg>\n",
       "\n"
      ],
      "text/plain": [
       "#<GnuplotRB::Plot:0x00000003768c18 @options=Hamster::Hash[:xrange => -10..10, :ylabel => \"x\", :title => \"Math function example\", :xlabel => \"x*sin(x)\", :term => [\"svg\", {:fsize=>\"18\"}]], @datasets=Hamster::Vector[#<GnuplotRB::Dataset:0x00000003628c18 @type=:math_function, @data=\"x*sin(x)\", @options=Hamster::Hash[:lt => {:rgb=>\"blue\", :lw=>3}, :with => \"lines\"]>], @cmd=\"plot \">"
      ]
     },
     "execution_count": 6,
     "metadata": {},
     "output_type": "execute_result"
    }
   ],
   "source": [
    "simple_plot.term('svg', fsize: '18')"
   ]
  },
  {
   "cell_type": "markdown",
   "metadata": {},
   "source": [
    "Of course plot may be created with *term* option already set:"
   ]
  },
  {
   "cell_type": "code",
   "execution_count": 7,
   "metadata": {
    "collapsed": false
   },
   "outputs": [
    {
     "data": {
      "image/png": "[encoded data removed]",
      "text/plain": [
       "#<GnuplotRB::Splot:0x000000037abd38 @options=Hamster::Hash[:parametric => true, :hidden3d => true, :urange => 0..3.141592653589793, :title => \"sphere\", :vrange => 0..6.283185307179586, :term => [\"png\", {:size=>[600, 800]}], :isosamples => 30], @datasets=Hamster::Vector[#<GnuplotRB::Dataset:0x000000037ab8d8 @type=:math_function, @data=\"sin(u)*cos(v), sin(u)*sin(v), cos(u)\", @options=Hamster::Hash[:title => \"Sphere\"]>], @cmd=\"splot \">"
      ]
     },
     "execution_count": 7,
     "metadata": {},
     "output_type": "execute_result"
    }
   ],
   "source": [
    "Splot.new(\n",
    "  ['sin(u)*cos(v), sin(u)*sin(v), cos(u)', title: 'Sphere'],\n",
    "  parametric: true,\n",
    "  urange: 0..Math::PI,\n",
    "  vrange: 0..2*Math::PI,\n",
    "  title: 'sphere',\n",
    "  hidden3d: true,\n",
    "  isosamples: 30,\n",
    "  term: ['png', size: [600, 800]]\n",
    ")"
   ]
  },
  {
   "cell_type": "markdown",
   "metadata": {
    "collapsed": true
   },
   "source": [
    "## Plotting to image file\n",
    "\n",
    "GnuplotRB allows to plot into png/svg/jpeg/gif files with handy ```#to_|format name|``` methods. They take 2 arguments: path to image file (optional, if none given, file contents will be returned from method) and options. This kind of methods are available for all Plottable objects except Animation (Dataset, Plot, Splot, Multiplot). You may see all possible formats in [gnuplot doc](http://www.gnuplot.info/docs_5.0/gnuplot.pdf) p. 190. You can also check which terminals are handled by your gnuplot installation:"
   ]
  },
  {
   "cell_type": "code",
   "execution_count": 8,
   "metadata": {
    "collapsed": false
   },
   "outputs": [
    {
     "data": {
      "text/plain": [
       "[\"cairolatex\", \"canvas\", \"cgm\", \"context\", \"corel\", \"dumb\", \"dxf\", \"eepic\", \"emf\", \"emtex\", \"epscairo\", \"epslatex\", \"fig\", \"gif\", \"hpgl\", \"jpeg\", \"latex\", \"lua\", \"mf\", \"mp\", \"pcl5\", \"pdfcairo\", \"png\", \"pngcairo\", \"postscript\", \"pslatex\", \"pstex\", \"pstricks\", \"qms\", \"qt\", \"svg\", \"tek40xx\", \"tek410x\", \"texdraw\", \"tgif\", \"tikz\", \"tkcanvas\", \"tpic\", \"unknown\", \"vttek\", \"x11\", \"xlib\", \"xterm\"]"
      ]
     },
     "execution_count": 8,
     "metadata": {},
     "output_type": "execute_result"
    }
   ],
   "source": [
    "Settings.available_terminals"
   ]
  },
  {
   "cell_type": "markdown",
   "metadata": {},
   "source": [
    "### Examples"
   ]
  },
  {
   "cell_type": "code",
   "execution_count": 9,
   "metadata": {
    "collapsed": false
   },
   "outputs": [
    {
     "data": {
      "image/png": "[encoded data removed]",
      "text/plain": [
       "#<File:plot.png>"
      ]
     },
     "execution_count": 9,
     "metadata": {},
     "output_type": "execute_result"
    }
   ],
   "source": [
    "Plot.new('sin(x)').to_png('plot.png')\n",
    "File.open('plot.png')"
   ]
  },
  {
   "cell_type": "code",
   "execution_count": 10,
   "metadata": {
    "collapsed": false
   },
   "outputs": [
    {
     "data": {
      "image/svg+xml": [
       "<?xml version=\"1.0\" encoding=\"utf-8\"  standalone=\"no\"?>\n",
       "<!DOCTYPE svg PUBLIC \"-//W3C//DTD SVG 1.1//EN\"\n",
       " \"http://www.w3.org/Graphics/SVG/1.1/DTD/svg11.dtd\">\n",
       "<svg \n",
       " width=\"600\" height=\"600\"\n",
       " viewBox=\"0 0 600 600\"\n",
       " xmlns=\"http://www.w3.org/2000/svg\"\n",
       " xmlns:xlink=\"http://www.w3.org/1999/xlink\"\n",
       ">\n",
       "\n",
       "<title>Gnuplot</title>\n",
       "<desc>Produced by GNUPLOT 5.0 patchlevel rc2 </desc>\n",
       "\n",
       "<g id=\"gnuplot_canvas\">\n",
       "\n",
       "<rect x=\"0\" y=\"0\" width=\"600\" height=\"600\" fill=\"none\"/>\n",
       "<defs>\n",
       "\n",
       "\t<circle id='gpDot' r='0.5' stroke-width='0.5'/>\n",
       "\t<path id='gpPt0' stroke-width='0.222' stroke='currentColor' d='M-1,0 h2 M0,-1 v2'/>\n",
       "\t<path id='gpPt1' stroke-width='0.222' stroke='currentColor' d='M-1,-1 L1,1 M1,-1 L-1,1'/>\n",
       "\t<path id='gpPt2' stroke-width='0.222' stroke='currentColor' d='M-1,0 L1,0 M0,-1 L0,1 M-1,-1 L1,1 M-1,1 L1,-1'/>\n",
       "\t<rect id='gpPt3' stroke-width='0.222' stroke='currentColor' x='-1' y='-1' width='2' height='2'/>\n",
       "\t<rect id='gpPt4' stroke-width='0.222' stroke='currentColor' fill='currentColor' x='-1' y='-1' width='2' height='2'/>\n",
       "\t<circle id='gpPt5' stroke-width='0.222' stroke='currentColor' cx='0' cy='0' r='1'/>\n",
       "\t<use xlink:href='#gpPt5' id='gpPt6' fill='currentColor' stroke='none'/>\n",
       "\t<path id='gpPt7' stroke-width='0.222' stroke='currentColor' d='M0,-1.33 L-1.33,0.67 L1.33,0.67 z'/>\n",
       "\t<use xlink:href='#gpPt7' id='gpPt8' fill='currentColor' stroke='none'/>\n",
       "\t<use xlink:href='#gpPt7' id='gpPt9' stroke='currentColor' transform='rotate(180)'/>\n",
       "\t<use xlink:href='#gpPt9' id='gpPt10' fill='currentColor' stroke='none'/>\n",
       "\t<use xlink:href='#gpPt3' id='gpPt11' stroke='currentColor' transform='rotate(45)'/>\n",
       "\t<use xlink:href='#gpPt11' id='gpPt12' fill='currentColor' stroke='none'/>\n",
       "\t<path id='gpPt13' stroke-width='0.222' stroke='currentColor' d='M0,1.330 L1.265,0.411 L0.782,-1.067 L-0.782,-1.076 L-1.265,0.411 z'/>\n",
       "\t<use xlink:href='#gpPt13' id='gpPt14' fill='currentColor' stroke='none'/>\n",
       "\t<filter id='textbox' filterUnits='objectBoundingBox' x='0' y='0' height='1' width='1'>\n",
       "\t  <feFlood flood-color='white' flood-opacity='1' result='bgnd'/>\n",
       "\t  <feComposite in='SourceGraphic' in2='bgnd' operator='atop'/>\n",
       "\t</filter>\n",
       "\t<filter id='greybox' filterUnits='objectBoundingBox' x='0' y='0' height='1' width='1'>\n",
       "\t  <feFlood flood-color='lightgrey' flood-opacity='1' result='grey'/>\n",
       "\t  <feComposite in='SourceGraphic' in2='grey' operator='atop'/>\n",
       "\t</filter>\n",
       "</defs>\n",
       "<g fill=\"none\" color=\"white\" stroke=\"currentColor\" stroke-width=\"1.00\" stroke-linecap=\"butt\" stroke-linejoin=\"miter\">\n",
       "</g>\n",
       "<g fill=\"none\" color=\"black\" stroke=\"currentColor\" stroke-width=\"1.00\" stroke-linecap=\"butt\" stroke-linejoin=\"miter\">\n",
       "\t<path stroke='black'  d='M53.9,564.0 L62.9,564.0 M575.0,564.0 L566.0,564.0  '/>\t<g transform=\"translate(45.6,568.5)\" stroke=\"none\" fill=\"black\" font-family=\"Arial\" font-size=\"12.00\"  text-anchor=\"end\">\n",
       "\t\t<text><tspan font-family=\"Arial\" >-1</tspan></text>\n",
       "\t</g>\n",
       "</g>\n",
       "<g fill=\"none\" color=\"black\" stroke=\"currentColor\" stroke-width=\"1.00\" stroke-linecap=\"butt\" stroke-linejoin=\"miter\">\n",
       "\t<path stroke='black'  d='M53.9,509.3 L62.9,509.3 M575.0,509.3 L566.0,509.3  '/>\t<g transform=\"translate(45.6,513.8)\" stroke=\"none\" fill=\"black\" font-family=\"Arial\" font-size=\"12.00\"  text-anchor=\"end\">\n",
       "\t\t<text><tspan font-family=\"Arial\" >-0.8</tspan></text>\n",
       "\t</g>\n",
       "</g>\n",
       "<g fill=\"none\" color=\"black\" stroke=\"currentColor\" stroke-width=\"1.00\" stroke-linecap=\"butt\" stroke-linejoin=\"miter\">\n",
       "\t<path stroke='black'  d='M53.9,454.5 L62.9,454.5 M575.0,454.5 L566.0,454.5  '/>\t<g transform=\"translate(45.6,459.0)\" stroke=\"none\" fill=\"black\" font-family=\"Arial\" font-size=\"12.00\"  text-anchor=\"end\">\n",
       "\t\t<text><tspan font-family=\"Arial\" >-0.6</tspan></text>\n",
       "\t</g>\n",
       "</g>\n",
       "<g fill=\"none\" color=\"black\" stroke=\"currentColor\" stroke-width=\"1.00\" stroke-linecap=\"butt\" stroke-linejoin=\"miter\">\n",
       "\t<path stroke='black'  d='M53.9,399.8 L62.9,399.8 M575.0,399.8 L566.0,399.8  '/>\t<g transform=\"translate(45.6,404.3)\" stroke=\"none\" fill=\"black\" font-family=\"Arial\" font-size=\"12.00\"  text-anchor=\"end\">\n",
       "\t\t<text><tspan font-family=\"Arial\" >-0.4</tspan></text>\n",
       "\t</g>\n",
       "</g>\n",
       "<g fill=\"none\" color=\"black\" stroke=\"currentColor\" stroke-width=\"1.00\" stroke-linecap=\"butt\" stroke-linejoin=\"miter\">\n",
       "\t<path stroke='black'  d='M53.9,345.1 L62.9,345.1 M575.0,345.1 L566.0,345.1  '/>\t<g transform=\"translate(45.6,349.6)\" stroke=\"none\" fill=\"black\" font-family=\"Arial\" font-size=\"12.00\"  text-anchor=\"end\">\n",
       "\t\t<text><tspan font-family=\"Arial\" >-0.2</tspan></text>\n",
       "\t</g>\n",
       "</g>\n",
       "<g fill=\"none\" color=\"black\" stroke=\"currentColor\" stroke-width=\"1.00\" stroke-linecap=\"butt\" stroke-linejoin=\"miter\">\n",
       "\t<path stroke='black'  d='M53.9,290.3 L62.9,290.3 M575.0,290.3 L566.0,290.3  '/>\t<g transform=\"translate(45.6,294.8)\" stroke=\"none\" fill=\"black\" font-family=\"Arial\" font-size=\"12.00\"  text-anchor=\"end\">\n",
       "\t\t<text><tspan font-family=\"Arial\" > 0</tspan></text>\n",
       "\t</g>\n",
       "</g>\n",
       "<g fill=\"none\" color=\"black\" stroke=\"currentColor\" stroke-width=\"1.00\" stroke-linecap=\"butt\" stroke-linejoin=\"miter\">\n",
       "\t<path stroke='black'  d='M53.9,235.6 L62.9,235.6 M575.0,235.6 L566.0,235.6  '/>\t<g transform=\"translate(45.6,240.1)\" stroke=\"none\" fill=\"black\" font-family=\"Arial\" font-size=\"12.00\"  text-anchor=\"end\">\n",
       "\t\t<text><tspan font-family=\"Arial\" > 0.2</tspan></text>\n",
       "\t</g>\n",
       "</g>\n",
       "<g fill=\"none\" color=\"black\" stroke=\"currentColor\" stroke-width=\"1.00\" stroke-linecap=\"butt\" stroke-linejoin=\"miter\">\n",
       "\t<path stroke='black'  d='M53.9,180.9 L62.9,180.9 M575.0,180.9 L566.0,180.9  '/>\t<g transform=\"translate(45.6,185.4)\" stroke=\"none\" fill=\"black\" font-family=\"Arial\" font-size=\"12.00\"  text-anchor=\"end\">\n",
       "\t\t<text><tspan font-family=\"Arial\" > 0.4</tspan></text>\n",
       "\t</g>\n",
       "</g>\n",
       "<g fill=\"none\" color=\"black\" stroke=\"currentColor\" stroke-width=\"1.00\" stroke-linecap=\"butt\" stroke-linejoin=\"miter\">\n",
       "\t<path stroke='black'  d='M53.9,126.2 L62.9,126.2 M575.0,126.2 L566.0,126.2  '/>\t<g transform=\"translate(45.6,130.7)\" stroke=\"none\" fill=\"black\" font-family=\"Arial\" font-size=\"12.00\"  text-anchor=\"end\">\n",
       "\t\t<text><tspan font-family=\"Arial\" > 0.6</tspan></text>\n",
       "\t</g>\n",
       "</g>\n",
       "<g fill=\"none\" color=\"black\" stroke=\"currentColor\" stroke-width=\"1.00\" stroke-linecap=\"butt\" stroke-linejoin=\"miter\">\n",
       "\t<path stroke='black'  d='M53.9,71.4 L62.9,71.4 M575.0,71.4 L566.0,71.4  '/>\t<g transform=\"translate(45.6,75.9)\" stroke=\"none\" fill=\"black\" font-family=\"Arial\" font-size=\"12.00\"  text-anchor=\"end\">\n",
       "\t\t<text><tspan font-family=\"Arial\" > 0.8</tspan></text>\n",
       "\t</g>\n",
       "</g>\n",
       "<g fill=\"none\" color=\"black\" stroke=\"currentColor\" stroke-width=\"1.00\" stroke-linecap=\"butt\" stroke-linejoin=\"miter\">\n",
       "\t<path stroke='black'  d='M53.9,16.7 L62.9,16.7 M575.0,16.7 L566.0,16.7  '/>\t<g transform=\"translate(45.6,21.2)\" stroke=\"none\" fill=\"black\" font-family=\"Arial\" font-size=\"12.00\"  text-anchor=\"end\">\n",
       "\t\t<text><tspan font-family=\"Arial\" > 1</tspan></text>\n",
       "\t</g>\n",
       "</g>\n",
       "<g fill=\"none\" color=\"black\" stroke=\"currentColor\" stroke-width=\"1.00\" stroke-linecap=\"butt\" stroke-linejoin=\"miter\">\n",
       "\t<path stroke='black'  d='M53.9,564.0 L53.9,555.0 M53.9,16.7 L53.9,25.7  '/>\t<g transform=\"translate(53.9,586.5)\" stroke=\"none\" fill=\"black\" font-family=\"Arial\" font-size=\"12.00\"  text-anchor=\"middle\">\n",
       "\t\t<text><tspan font-family=\"Arial\" >-10</tspan></text>\n",
       "\t</g>\n",
       "</g>\n",
       "<g fill=\"none\" color=\"black\" stroke=\"currentColor\" stroke-width=\"1.00\" stroke-linecap=\"butt\" stroke-linejoin=\"miter\">\n",
       "\t<path stroke='black'  d='M184.2,564.0 L184.2,555.0 M184.2,16.7 L184.2,25.7  '/>\t<g transform=\"translate(184.2,586.5)\" stroke=\"none\" fill=\"black\" font-family=\"Arial\" font-size=\"12.00\"  text-anchor=\"middle\">\n",
       "\t\t<text><tspan font-family=\"Arial\" >-5</tspan></text>\n",
       "\t</g>\n",
       "</g>\n",
       "<g fill=\"none\" color=\"black\" stroke=\"currentColor\" stroke-width=\"1.00\" stroke-linecap=\"butt\" stroke-linejoin=\"miter\">\n",
       "\t<path stroke='black'  d='M314.5,564.0 L314.5,555.0 M314.5,16.7 L314.5,25.7  '/>\t<g transform=\"translate(314.5,586.5)\" stroke=\"none\" fill=\"black\" font-family=\"Arial\" font-size=\"12.00\"  text-anchor=\"middle\">\n",
       "\t\t<text><tspan font-family=\"Arial\" > 0</tspan></text>\n",
       "\t</g>\n",
       "</g>\n",
       "<g fill=\"none\" color=\"black\" stroke=\"currentColor\" stroke-width=\"1.00\" stroke-linecap=\"butt\" stroke-linejoin=\"miter\">\n",
       "\t<path stroke='black'  d='M444.7,564.0 L444.7,555.0 M444.7,16.7 L444.7,25.7  '/>\t<g transform=\"translate(444.7,586.5)\" stroke=\"none\" fill=\"black\" font-family=\"Arial\" font-size=\"12.00\"  text-anchor=\"middle\">\n",
       "\t\t<text><tspan font-family=\"Arial\" > 5</tspan></text>\n",
       "\t</g>\n",
       "</g>\n",
       "<g fill=\"none\" color=\"black\" stroke=\"currentColor\" stroke-width=\"1.00\" stroke-linecap=\"butt\" stroke-linejoin=\"miter\">\n",
       "\t<path stroke='black'  d='M575.0,564.0 L575.0,555.0 M575.0,16.7 L575.0,25.7  '/>\t<g transform=\"translate(575.0,586.5)\" stroke=\"none\" fill=\"black\" font-family=\"Arial\" font-size=\"12.00\"  text-anchor=\"middle\">\n",
       "\t\t<text><tspan font-family=\"Arial\" > 10</tspan></text>\n",
       "\t</g>\n",
       "</g>\n",
       "<g fill=\"none\" color=\"black\" stroke=\"currentColor\" stroke-width=\"1.00\" stroke-linecap=\"butt\" stroke-linejoin=\"miter\">\n",
       "</g>\n",
       "<g fill=\"none\" color=\"black\" stroke=\"currentColor\" stroke-width=\"1.00\" stroke-linecap=\"butt\" stroke-linejoin=\"miter\">\n",
       "\t<path stroke='black'  d='M53.9,16.7 L53.9,564.0 L575.0,564.0 L575.0,16.7 L53.9,16.7 Z  '/></g>\n",
       "<g fill=\"none\" color=\"black\" stroke=\"currentColor\" stroke-width=\"1.00\" stroke-linecap=\"butt\" stroke-linejoin=\"miter\">\n",
       "</g>\n",
       "\t<g id=\"gnuplot_plot_1\" ><title>sin(x)</title>\n",
       "<g fill=\"none\" color=\"black\" stroke=\"currentColor\" stroke-width=\"1.00\" stroke-linecap=\"butt\" stroke-linejoin=\"miter\">\n",
       "\t<g transform=\"translate(507.9,39.2)\" stroke=\"none\" fill=\"black\" font-family=\"Arial\" font-size=\"12.00\"  text-anchor=\"end\">\n",
       "\t\t<text>sin(x)</text>\n",
       "\t</g>\n",
       "</g>\n",
       "<g fill=\"none\" color=\"black\" stroke=\"currentColor\" stroke-width=\"1.00\" stroke-linecap=\"butt\" stroke-linejoin=\"miter\">\n",
       "\t<path stroke='rgb(148,   0, 211)'  d='M516.2,34.7 L558.4,34.7 M53.9,141.5 L59.2,190.6 L64.4,243.7 L69.7,298.8 L75.0,353.5 L80.2,405.6\n",
       "\t\tL85.5,453.1 L90.7,493.9 L96.0,526.5 L101.3,549.4 L106.5,561.8 L111.8,563.2 L117.1,553.5 L122.3,533.0\n",
       "\t\tL127.6,502.7 L132.9,463.8 L138.1,417.8 L143.4,366.6 L148.6,312.3 L153.9,257.2 L159.2,203.3 L164.4,153.0\n",
       "\t\tL169.7,108.3 L175.0,71.0 L180.2,42.7 L185.5,24.4 L190.8,16.9 L196.0,20.5 L201.3,35.1 L206.5,60.1\n",
       "\t\tL211.8,94.5 L217.1,136.8 L222.3,185.4 L227.6,238.2 L232.9,293.2 L238.1,348.0 L243.4,400.5 L248.7,448.5\n",
       "\t\tL253.9,490.1 L259.2,523.6 L264.4,547.6 L269.7,561.1 L275.0,563.6 L280.2,555.0 L285.5,535.6 L290.8,506.2\n",
       "\t\tL296.0,468.1 L301.3,422.8 L306.6,372.0 L311.8,317.9 L317.1,262.8 L322.3,208.7 L327.6,157.9 L332.9,112.6\n",
       "\t\tL338.1,74.5 L343.4,45.1 L348.7,25.7 L353.9,17.1 L359.2,19.6 L364.5,33.1 L369.7,57.1 L375.0,90.6\n",
       "\t\tL380.2,132.2 L385.5,180.2 L390.8,232.7 L396.0,287.5 L401.3,342.5 L406.6,395.3 L411.8,443.9 L417.1,486.2\n",
       "\t\tL422.4,520.6 L427.6,545.6 L432.9,560.2 L438.1,563.8 L443.4,556.3 L448.7,538.0 L453.9,509.7 L459.2,472.4\n",
       "\t\tL464.5,427.7 L469.7,377.4 L475.0,323.5 L480.3,268.4 L485.5,214.1 L490.8,162.9 L496.0,116.9 L501.3,78.0\n",
       "\t\tL506.6,47.7 L511.8,27.2 L517.1,17.5 L522.4,18.9 L527.6,31.3 L532.9,54.2 L538.2,86.8 L543.4,127.6\n",
       "\t\tL548.7,175.1 L553.9,227.2 L559.2,281.9 L564.5,337.0 L569.7,390.1 L575.0,439.2  '/></g>\n",
       "\t</g>\n",
       "<g fill=\"none\" color=\"white\" stroke=\"rgb(148,   0, 211)\" stroke-width=\"2.00\" stroke-linecap=\"butt\" stroke-linejoin=\"miter\">\n",
       "</g>\n",
       "<g fill=\"none\" color=\"black\" stroke=\"currentColor\" stroke-width=\"2.00\" stroke-linecap=\"butt\" stroke-linejoin=\"miter\">\n",
       "</g>\n",
       "<g fill=\"none\" color=\"black\" stroke=\"black\" stroke-width=\"1.00\" stroke-linecap=\"butt\" stroke-linejoin=\"miter\">\n",
       "</g>\n",
       "<g fill=\"none\" color=\"black\" stroke=\"currentColor\" stroke-width=\"1.00\" stroke-linecap=\"butt\" stroke-linejoin=\"miter\">\n",
       "\t<path stroke='black'  d='M53.9,16.7 L53.9,564.0 L575.0,564.0 L575.0,16.7 L53.9,16.7 Z  '/></g>\n",
       "<g fill=\"none\" color=\"black\" stroke=\"currentColor\" stroke-width=\"1.00\" stroke-linecap=\"butt\" stroke-linejoin=\"miter\">\n",
       "</g>\n",
       "</g>\n",
       "</svg>\n",
       "\n"
      ],
      "text/plain": [
       "\"<?xml version=\\\"1.0\\\" encoding=\\\"utf-8\\\"  standalone=\\\"no\\\"?>\\n<!DOCTYPE svg PUBLIC \\\"-//W3C//DTD SVG 1.1//EN\\\"\\n \\\"http://www.w3.org/Graphics/SVG/1.1/DTD/svg11.dtd\\\">\\n<svg \\n width=\\\"600\\\" height=\\\"600\\\"\\n viewBox=\\\"0 0 600 600\\\"\\n xmlns=\\\"http://www.w3.org/2000/svg\\\"\\n xmlns:xlink=\\\"http://www.w3.org/1999/xlink\\\"\\n>\\n\\n<title>Gnuplot</title>\\n<desc>Produced by GNUPLOT 5.0 patchlevel rc2 </desc>\\n\\n<g id=\\\"gnuplot_canvas\\\">\\n\\n<rect x=\\\"0\\\" y=\\\"0\\\" width=\\\"600\\\" height=\\\"600\\\" fill=\\\"none\\\"/>\\n<defs>\\n\\n\\t<circle id='gpDot' r='0.5' stroke-width='0.5'/>\\n\\t<path id='gpPt0' stroke-width='0.222' stroke='currentColor' d='M-1,0 h2 M0,-1 v2'/>\\n\\t<path id='gpPt1' stroke-width='0.222' stroke='currentColor' d='M-1,-1 L1,1 M1,-1 L-1,1'/>\\n\\t<path id='gpPt2' stroke-width='0.222' stroke='currentColor' d='M-1,0 L1,0 M0,-1 L0,1 M-1,-1 L1,1 M-1,1 L1,-1'/>\\n\\t<rect id='gpPt3' stroke-width='0.222' stroke='currentColor' x='-1' y='-1' width='2' height='2'/>\\n\\t<rect id='gpPt4' stroke-width='0.222' stroke='currentColor' fill='currentColor' x='-1' y='-1' width='2' height='2'/>\\n\\t<circle id='gpPt5' stroke-width='0.222' stroke='currentColor' cx='0' cy='0' r='1'/>\\n\\t<use xlink:href='#gpPt5' id='gpPt6' fill='currentColor' stroke='none'/>\\n\\t<path id='gpPt7' stroke-width='0.222' stroke='currentColor' d='M0,-1.33 L-1.33,0.67 L1.33,0.67 z'/>\\n\\t<use xlink:href='#gpPt7' id='gpPt8' fill='currentColor' stroke='none'/>\\n\\t<use xlink:href='#gpPt7' id='gpPt9' stroke='currentColor' transform='rotate(180)'/>\\n\\t<use xlink:href='#gpPt9' id='gpPt10' fill='currentColor' stroke='none'/>\\n\\t<use xlink:href='#gpPt3' id='gpPt11' stroke='currentColor' transform='rotate(45)'/>\\n\\t<use xlink:href='#gpPt11' id='gpPt12' fill='currentColor' stroke='none'/>\\n\\t<path id='gpPt13' stroke-width='0.222' stroke='currentColor' d='M0,1.330 L1.265,0.411 L0.782,-1.067 L-0.782,-1.076 L-1.265,0.411 z'/>\\n\\t<use xlink:href='#gpPt13' id='gpPt14' fill='currentColor' stroke='none'/>\\n\\t<filter id='textbox' filterUnits='objectBoundingBox' x='0' y='0' height='1' width='1'>\\n\\t  <feFlood flood-color='white' flood-opacity='1' result='bgnd'/>\\n\\t  <feComposite in='SourceGraphic' in2='bgnd' operator='atop'/>\\n\\t</filter>\\n\\t<filter id='greybox' filterUnits='objectBoundingBox' x='0' y='0' height='1' width='1'>\\n\\t  <feFlood flood-color='lightgrey' flood-opacity='1' result='grey'/>\\n\\t  <feComposite in='SourceGraphic' in2='grey' operator='atop'/>\\n\\t</filter>\\n</defs>\\n<g fill=\\\"none\\\" color=\\\"white\\\" stroke=\\\"currentColor\\\" stroke-width=\\\"1.00\\\" stroke-linecap=\\\"butt\\\" stroke-linejoin=\\\"miter\\\">\\n</g>\\n<g fill=\\\"none\\\" color=\\\"black\\\" stroke=\\\"currentColor\\\" stroke-width=\\\"1.00\\\" stroke-linecap=\\\"butt\\\" stroke-linejoin=\\\"miter\\\">\\n\\t<path stroke='black'  d='M53.9,564.0 L62.9,564.0 M575.0,564.0 L566.0,564.0  '/>\\t<g transform=\\\"translate(45.6,568.5)\\\" stroke=\\\"none\\\" fill=\\\"black\\\" font-family=\\\"Arial\\\" font-size=\\\"12.00\\\"  text-anchor=\\\"end\\\">\\n\\t\\t<text><tspan font-family=\\\"Arial\\\" >-1</tspan></text>\\n\\t</g>\\n</g>\\n<g fill=\\\"none\\\" color=\\\"black\\\" stroke=\\\"currentColor\\\" stroke-width=\\\"1.00\\\" stroke-linecap=\\\"butt\\\" stroke-linejoin=\\\"miter\\\">\\n\\t<path stroke='black'  d='M53.9,509.3 L62.9,509.3 M575.0,509.3 L566.0,509.3  '/>\\t<g transform=\\\"translate(45.6,513.8)\\\" stroke=\\\"none\\\" fill=\\\"black\\\" font-family=\\\"Arial\\\" font-size=\\\"12.00\\\"  text-anchor=\\\"end\\\">\\n\\t\\t<text><tspan font-family=\\\"Arial\\\" >-0.8</tspan></text>\\n\\t</g>\\n</g>\\n<g fill=\\\"none\\\" color=\\\"black\\\" stroke=\\\"currentColor\\\" stroke-width=\\\"1.00\\\" stroke-linecap=\\\"butt\\\" stroke-linejoin=\\\"miter\\\">\\n\\t<path stroke='black'  d='M53.9,454.5 L62.9,454.5 M575.0,454.5 L566.0,454.5  '/>\\t<g transform=\\\"translate(45.6,459.0)\\\" stroke=\\\"none\\\" fill=\\\"black\\\" font-family=\\\"Arial\\\" font-size=\\\"12.00\\\"  text-anchor=\\\"end\\\">\\n\\t\\t<text><tspan font-family=\\\"Arial\\\" >-0.6</tspan></text>\\n\\t</g>\\n</g>\\n<g fill=\\\"none\\\" color=\\\"black\\\" stroke=\\\"currentColor\\\" stroke-width=\\\"1.00\\\" stroke-linecap=\\\"butt\\\" stroke-linejoin=\\\"miter\\\">\\n\\t<path stroke='black'  d='M53.9,399.8 L62.9,399.8 M575.0,399.8 L566.0,399.8  '/>\\t<g transform=\\\"translate(45.6,404.3)\\\" stroke=\\\"none\\\" fill=\\\"black\\\" font-family=\\\"Arial\\\" font-size=\\\"12.00\\\"  text-anchor=\\\"end\\\">\\n\\t\\t<text><tspan font-family=\\\"Arial\\\" >-0.4</tspan></text>\\n\\t</g>\\n</g>\\n<g fill=\\\"none\\\" color=\\\"black\\\" stroke=\\\"currentColor\\\" stroke-width=\\\"1.00\\\" stroke-linecap=\\\"butt\\\" stroke-linejoin=\\\"miter\\\">\\n\\t<path stroke='black'  d='M53.9,345.1 L62.9,345.1 M575.0,345.1 L566.0,345.1  '/>\\t<g transform=\\\"translate(45.6,349.6)\\\" stroke=\\\"none\\\" fill=\\\"black\\\" font-family=\\\"Arial\\\" font-size=\\\"12.00\\\"  text-anchor=\\\"end\\\">\\n\\t\\t<text><tspan font-family=\\\"Arial\\\" >-0.2</tspan></text>\\n\\t</g>\\n</g>\\n<g fill=\\\"none\\\" color=\\\"black\\\" stroke=\\\"currentColor\\\" stroke-width=\\\"1.00\\\" stroke-linecap=\\\"butt\\\" stroke-linejoin=\\\"miter\\\">\\n\\t<path stroke='black'  d='M53.9,290.3 L62.9,290.3 M575.0,290.3 L566.0,290.3  '/>\\t<g transform=\\\"translate(45.6,294.8)\\\" stroke=\\\"none\\\" fill=\\\"black\\\" font-family=\\\"Arial\\\" font-size=\\\"12.00\\\"  text-anchor=\\\"end\\\">\\n\\t\\t<text><tspan font-family=\\\"Arial\\\" > 0</tspan></text>\\n\\t</g>\\n</g>\\n<g fill=\\\"none\\\" color=\\\"black\\\" stroke=\\\"currentColor\\\" stroke-width=\\\"1.00\\\" stroke-linecap=\\\"butt\\\" stroke-linejoin=\\\"miter\\\">\\n\\t<path stroke='black'  d='M53.9,235.6 L62.9,235.6 M575.0,235.6 L566.0,235.6  '/>\\t<g transform=\\\"translate(45.6,240.1)\\\" stroke=\\\"none\\\" fill=\\\"black\\\" font-family=\\\"Arial\\\" font-size=\\\"12.00\\\"  text-anchor=\\\"end\\\">\\n\\t\\t<text><tspan font-family=\\\"Arial\\\" > 0.2</tspan></text>\\n\\t</g>\\n</g>\\n<g fill=\\\"none\\\" color=\\\"black\\\" stroke=\\\"currentColor\\\" stroke-width=\\\"1.00\\\" stroke-linecap=\\\"butt\\\" stroke-linejoin=\\\"miter\\\">\\n\\t<path stroke='black'  d='M53.9,180.9 L62.9,180.9 M575.0,180.9 L566.0,180.9  '/>\\t<g transform=\\\"translate(45.6,185.4)\\\" stroke=\\\"none\\\" fill=\\\"black\\\" font-family=\\\"Arial\\\" font-size=\\\"12.00\\\"  text-anchor=\\\"end\\\">\\n\\t\\t<text><tspan font-family=\\\"Arial\\\" > 0.4</tspan></text>\\n\\t</g>\\n</g>\\n<g fill=\\\"none\\\" color=\\\"black\\\" stroke=\\\"currentColor\\\" stroke-width=\\\"1.00\\\" stroke-linecap=\\\"butt\\\" stroke-linejoin=\\\"miter\\\">\\n\\t<path stroke='black'  d='M53.9,126.2 L62.9,126.2 M575.0,126.2 L566.0,126.2  '/>\\t<g transform=\\\"translate(45.6,130.7)\\\" stroke=\\\"none\\\" fill=\\\"black\\\" font-family=\\\"Arial\\\" font-size=\\\"12.00\\\"  text-anchor=\\\"end\\\">\\n\\t\\t<text><tspan font-family=\\\"Arial\\\" > 0.6</tspan></text>\\n\\t</g>\\n</g>\\n<g fill=\\\"none\\\" color=\\\"black\\\" stroke=\\\"currentColor\\\" stroke-width=\\\"1.00\\\" stroke-linecap=\\\"butt\\\" stroke-linejoin=\\\"miter\\\">\\n\\t<path stroke='black'  d='M53.9,71.4 L62.9,71.4 M575.0,71.4 L566.0,71.4  '/>\\t<g transform=\\\"translate(45.6,75.9)\\\" stroke=\\\"none\\\" fill=\\\"black\\\" font-family=\\\"Arial\\\" font-size=\\\"12.00\\\"  text-anchor=\\\"end\\\">\\n\\t\\t<text><tspan font-family=\\\"Arial\\\" > 0.8</tspan></text>\\n\\t</g>\\n</g>\\n<g fill=\\\"none\\\" color=\\\"black\\\" stroke=\\\"currentColor\\\" stroke-width=\\\"1.00\\\" stroke-linecap=\\\"butt\\\" stroke-linejoin=\\\"miter\\\">\\n\\t<path stroke='black'  d='M53.9,16.7 L62.9,16.7 M575.0,16.7 L566.0,16.7  '/>\\t<g transform=\\\"translate(45.6,21.2)\\\" stroke=\\\"none\\\" fill=\\\"black\\\" font-family=\\\"Arial\\\" font-size=\\\"12.00\\\"  text-anchor=\\\"end\\\">\\n\\t\\t<text><tspan font-family=\\\"Arial\\\" > 1</tspan></text>\\n\\t</g>\\n</g>\\n<g fill=\\\"none\\\" color=\\\"black\\\" stroke=\\\"currentColor\\\" stroke-width=\\\"1.00\\\" stroke-linecap=\\\"butt\\\" stroke-linejoin=\\\"miter\\\">\\n\\t<path stroke='black'  d='M53.9,564.0 L53.9,555.0 M53.9,16.7 L53.9,25.7  '/>\\t<g transform=\\\"translate(53.9,586.5)\\\" stroke=\\\"none\\\" fill=\\\"black\\\" font-family=\\\"Arial\\\" font-size=\\\"12.00\\\"  text-anchor=\\\"middle\\\">\\n\\t\\t<text><tspan font-family=\\\"Arial\\\" >-10</tspan></text>\\n\\t</g>\\n</g>\\n<g fill=\\\"none\\\" color=\\\"black\\\" stroke=\\\"currentColor\\\" stroke-width=\\\"1.00\\\" stroke-linecap=\\\"butt\\\" stroke-linejoin=\\\"miter\\\">\\n\\t<path stroke='black'  d='M184.2,564.0 L184.2,555.0 M184.2,16.7 L184.2,25.7  '/>\\t<g transform=\\\"translate(184.2,586.5)\\\" stroke=\\\"none\\\" fill=\\\"black\\\" font-family=\\\"Arial\\\" font-size=\\\"12.00\\\"  text-anchor=\\\"middle\\\">\\n\\t\\t<text><tspan font-family=\\\"Arial\\\" >-5</tspan></text>\\n\\t</g>\\n</g>\\n<g fill=\\\"none\\\" color=\\\"black\\\" stroke=\\\"currentColor\\\" stroke-width=\\\"1.00\\\" stroke-linecap=\\\"butt\\\" stroke-linejoin=\\\"miter\\\">\\n\\t<path stroke='black'  d='M314.5,564.0 L314.5,555.0 M314.5,16.7 L314.5,25.7  '/>\\t<g transform=\\\"translate(314.5,586.5)\\\" stroke=\\\"none\\\" fill=\\\"black\\\" font-family=\\\"Arial\\\" font-size=\\\"12.00\\\"  text-anchor=\\\"middle\\\">\\n\\t\\t<text><tspan font-family=\\\"Arial\\\" > 0</tspan></text>\\n\\t</g>\\n</g>\\n<g fill=\\\"none\\\" color=\\\"black\\\" stroke=\\\"currentColor\\\" stroke-width=\\\"1.00\\\" stroke-linecap=\\\"butt\\\" stroke-linejoin=\\\"miter\\\">\\n\\t<path stroke='black'  d='M444.7,564.0 L444.7,555.0 M444.7,16.7 L444.7,25.7  '/>\\t<g transform=\\\"translate(444.7,586.5)\\\" stroke=\\\"none\\\" fill=\\\"black\\\" font-family=\\\"Arial\\\" font-size=\\\"12.00\\\"  text-anchor=\\\"middle\\\">\\n\\t\\t<text><tspan font-family=\\\"Arial\\\" > 5</tspan></text>\\n\\t</g>\\n</g>\\n<g fill=\\\"none\\\" color=\\\"black\\\" stroke=\\\"currentColor\\\" stroke-width=\\\"1.00\\\" stroke-linecap=\\\"butt\\\" stroke-linejoin=\\\"miter\\\">\\n\\t<path stroke='black'  d='M575.0,564.0 L575.0,555.0 M575.0,16.7 L575.0,25.7  '/>\\t<g transform=\\\"translate(575.0,586.5)\\\" stroke=\\\"none\\\" fill=\\\"black\\\" font-family=\\\"Arial\\\" font-size=\\\"12.00\\\"  text-anchor=\\\"middle\\\">\\n\\t\\t<text><tspan font-family=\\\"Arial\\\" > 10</tspan></text>\\n\\t</g>\\n</g>\\n<g fill=\\\"none\\\" color=\\\"black\\\" stroke=\\\"currentColor\\\" stroke-width=\\\"1.00\\\" stroke-linecap=\\\"butt\\\" stroke-linejoin=\\\"miter\\\">\\n</g>\\n<g fill=\\\"none\\\" color=\\\"black\\\" stroke=\\\"currentColor\\\" stroke-width=\\\"1.00\\\" stroke-linecap=\\\"butt\\\" stroke-linejoin=\\\"miter\\\">\\n\\t<path stroke='black'  d='M53.9,16.7 L53.9,564.0 L575.0,564.0 L575.0,16.7 L53.9,16.7 Z  '/></g>\\n<g fill=\\\"none\\\" color=\\\"black\\\" stroke=\\\"currentColor\\\" stroke-width=\\\"1.00\\\" stroke-linecap=\\\"butt\\\" stroke-linejoin=\\\"miter\\\">\\n</g>\\n\\t<g id=\\\"gnuplot_plot_1\\\" ><title>sin(x)</title>\\n<g fill=\\\"none\\\" color=\\\"black\\\" stroke=\\\"currentColor\\\" stroke-width=\\\"1.00\\\" stroke-linecap=\\\"butt\\\" stroke-linejoin=\\\"miter\\\">\\n\\t<g transform=\\\"translate(507.9,39.2)\\\" stroke=\\\"none\\\" fill=\\\"black\\\" font-family=\\\"Arial\\\" font-size=\\\"12.00\\\"  text-anchor=\\\"end\\\">\\n\\t\\t<text>sin(x)</text>\\n\\t</g>\\n</g>\\n<g fill=\\\"none\\\" color=\\\"black\\\" stroke=\\\"currentColor\\\" stroke-width=\\\"1.00\\\" stroke-linecap=\\\"butt\\\" stroke-linejoin=\\\"miter\\\">\\n\\t<path stroke='rgb(148,   0, 211)'  d='M516.2,34.7 L558.4,34.7 M53.9,141.5 L59.2,190.6 L64.4,243.7 L69.7,298.8 L75.0,353.5 L80.2,405.6\\n\\t\\tL85.5,453.1 L90.7,493.9 L96.0,526.5 L101.3,549.4 L106.5,561.8 L111.8,563.2 L117.1,553.5 L122.3,533.0\\n\\t\\tL127.6,502.7 L132.9,463.8 L138.1,417.8 L143.4,366.6 L148.6,312.3 L153.9,257.2 L159.2,203.3 L164.4,153.0\\n\\t\\tL169.7,108.3 L175.0,71.0 L180.2,42.7 L185.5,24.4 L190.8,16.9 L196.0,20.5 L201.3,35.1 L206.5,60.1\\n\\t\\tL211.8,94.5 L217.1,136.8 L222.3,185.4 L227.6,238.2 L232.9,293.2 L238.1,348.0 L243.4,400.5 L248.7,448.5\\n\\t\\tL253.9,490.1 L259.2,523.6 L264.4,547.6 L269.7,561.1 L275.0,563.6 L280.2,555.0 L285.5,535.6 L290.8,506.2\\n\\t\\tL296.0,468.1 L301.3,422.8 L306.6,372.0 L311.8,317.9 L317.1,262.8 L322.3,208.7 L327.6,157.9 L332.9,112.6\\n\\t\\tL338.1,74.5 L343.4,45.1 L348.7,25.7 L353.9,17.1 L359.2,19.6 L364.5,33.1 L369.7,57.1 L375.0,90.6\\n\\t\\tL380.2,132.2 L385.5,180.2 L390.8,232.7 L396.0,287.5 L401.3,342.5 L406.6,395.3 L411.8,443.9 L417.1,486.2\\n\\t\\tL422.4,520.6 L427.6,545.6 L432.9,560.2 L438.1,563.8 L443.4,556.3 L448.7,538.0 L453.9,509.7 L459.2,472.4\\n\\t\\tL464.5,427.7 L469.7,377.4 L475.0,323.5 L480.3,268.4 L485.5,214.1 L490.8,162.9 L496.0,116.9 L501.3,78.0\\n\\t\\tL506.6,47.7 L511.8,27.2 L517.1,17.5 L522.4,18.9 L527.6,31.3 L532.9,54.2 L538.2,86.8 L543.4,127.6\\n\\t\\tL548.7,175.1 L553.9,227.2 L559.2,281.9 L564.5,337.0 L569.7,390.1 L575.0,439.2  '/></g>\\n\\t</g>\\n<g fill=\\\"none\\\" color=\\\"white\\\" stroke=\\\"rgb(148,   0, 211)\\\" stroke-width=\\\"2.00\\\" stroke-linecap=\\\"butt\\\" stroke-linejoin=\\\"miter\\\">\\n</g>\\n<g fill=\\\"none\\\" color=\\\"black\\\" stroke=\\\"currentColor\\\" stroke-width=\\\"2.00\\\" stroke-linecap=\\\"butt\\\" stroke-linejoin=\\\"miter\\\">\\n</g>\\n<g fill=\\\"none\\\" color=\\\"black\\\" stroke=\\\"black\\\" stroke-width=\\\"1.00\\\" stroke-linecap=\\\"butt\\\" stroke-linejoin=\\\"miter\\\">\\n</g>\\n<g fill=\\\"none\\\" color=\\\"black\\\" stroke=\\\"currentColor\\\" stroke-width=\\\"1.00\\\" stroke-linecap=\\\"butt\\\" stroke-linejoin=\\\"miter\\\">\\n\\t<path stroke='black'  d='M53.9,16.7 L53.9,564.0 L575.0,564.0 L575.0,16.7 L53.9,16.7 Z  '/></g>\\n<g fill=\\\"none\\\" color=\\\"black\\\" stroke=\\\"currentColor\\\" stroke-width=\\\"1.00\\\" stroke-linecap=\\\"butt\\\" stroke-linejoin=\\\"miter\\\">\\n</g>\\n</g>\\n</svg>\\n\\n\""
      ]
     },
     "metadata": {},
     "output_type": "display_data"
    }
   ],
   "source": [
    "svg_contents = Plot.new('sin(x)').to_svg(size: [600, 600])\n",
    "IRuby.display(svg_contents, mime: 'image/svg+xml')"
   ]
  }
 ],
 "metadata": {
  "kernelspec": {
   "display_name": "Ruby 2.1.2",
   "language": "ruby",
   "name": "ruby"
  },
  "language_info": {
   "file_extension": "rb",
   "mimetype": "application/x-ruby",
   "name": "ruby",
   "version": "2.1.2"
  }
 },
 "nbformat": 4,
 "nbformat_minor": 0
}
